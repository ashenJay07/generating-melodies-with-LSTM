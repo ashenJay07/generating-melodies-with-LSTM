{
 "cells": [
  {
   "cell_type": "code",
   "execution_count": 22,
   "id": "09f67757-a5c9-4f14-88cd-8127b3655d59",
   "metadata": {},
   "outputs": [],
   "source": [
    "import os\n",
    "import music21 as m21\n",
    "from music21 import environment\n",
    "import json\n",
    "import numpy as np\n",
    "import tensorflow.keras as keras"
   ]
  },
  {
   "cell_type": "code",
   "execution_count": 9,
   "id": "9762ad7b-a2a5-4f1e-bd0e-bf286223c21a",
   "metadata": {},
   "outputs": [
    {
     "data": {
      "text/plain": [
       "'8.3.0'"
      ]
     },
     "execution_count": 9,
     "metadata": {},
     "output_type": "execute_result"
    }
   ],
   "source": [
    "m21.__version__"
   ]
  },
  {
   "cell_type": "markdown",
   "id": "f54cefc4-861e-465e-b3de-f4fffaf4cd7f",
   "metadata": {},
   "source": [
    "### What is Music21?\n",
    "\n",
    "Simply, It is a package that we can used as a converting tool. <br>\n",
    "E.g., kern, MIDI, MusicMXL ===> m21 ===> kern, MIDI, ....\n",
    "\n",
    "[Music21 Documentation](https://web.mit.edu/music21/doc/)\n",
    "\n",
    "<br><br>"
   ]
  },
  {
   "cell_type": "code",
   "execution_count": 10,
   "id": "d9d8c8bc-2b5f-4e1c-af5e-a38a9aa33307",
   "metadata": {},
   "outputs": [],
   "source": [
    "PATH_TO_MUSESCORE_EXECUTABLE = r\"C:\\Program Files\\MuseScore 4\\bin\\MuseScore4.exe\"\n",
    "KERN_DATASET_PATH = \"deutschl/test\"\n",
    "SAVE_DIR = \"dataset\"\n",
    "SINGLE_FILE_DATASET = \"file_dataset\"\n",
    "SEQUENCE_LENGTH = 64\n",
    "MAPPING_PATH = \"mapping.json\"\n",
    "\n",
    "# durations are expressed in quarter length\n",
    "ACCEPTABLE_DURATIONS = [\n",
    "    0.25,  # 16th note\n",
    "    0.5,  # 8th note\n",
    "    0.75,  # dotted note\n",
    "    1.0,  # quarter note\n",
    "    1.5,  # dotted quater note\n",
    "    2,  # half note\n",
    "    3,  # quarter note (time-signature)\n",
    "    4  # whole note\n",
    "]"
   ]
  },
  {
   "cell_type": "markdown",
   "id": "8d95f195-e4ed-4ff5-8937-85cfa74c281a",
   "metadata": {},
   "source": [
    "<br>\n",
    "\n",
    "## Setup Music21 environment variable"
   ]
  },
  {
   "cell_type": "code",
   "execution_count": 11,
   "id": "27f0de93-76ea-4640-bdfd-a59ed5495f64",
   "metadata": {},
   "outputs": [],
   "source": [
    "environment.set(\"musicxmlPath\", PATH_TO_MUSESCORE_EXECUTABLE)"
   ]
  },
  {
   "cell_type": "markdown",
   "id": "e46d2715-2c55-4f21-b382-91492cf22cef",
   "metadata": {},
   "source": [
    "<br>\n",
    "\n",
    "## Load flok songs"
   ]
  },
  {
   "cell_type": "code",
   "execution_count": 12,
   "id": "2fee85d7-9f25-4a1a-804f-71005461c4a1",
   "metadata": {},
   "outputs": [],
   "source": [
    "def load_songs_in_kern(dataset_path):\n",
    "\n",
    "    songs = []\n",
    "    \n",
    "    # go through all the files in dataset and load them with music21\n",
    "    for path, sub_dirs, files in os.walk(dataset_path):\n",
    "        for file in files:\n",
    "            # filtering kern files\n",
    "            if file[-3:] == \"krn\":\n",
    "                song = m21.converter.parse(os.path.join(path, file))\n",
    "                songs.append(song)\n",
    "\n",
    "    return songs\n",
    "    "
   ]
  },
  {
   "cell_type": "markdown",
   "id": "b1d2a2c4-833c-4c91-9dd6-0b242f473cc7",
   "metadata": {},
   "source": [
    "<br>\n",
    "\n",
    "## Filter out songs that have non-acceptable durations"
   ]
  },
  {
   "cell_type": "code",
   "execution_count": 13,
   "id": "243c0a06-5288-4097-b34c-c02e33a5341e",
   "metadata": {},
   "outputs": [],
   "source": [
    "def has_acceptable_durations(song, acceptable_duration):\n",
    "    for note in song.flat.notesAndRests:\n",
    "        if note.duration.quarterLength not in acceptable_duration:\n",
    "            return False\n",
    "    return True"
   ]
  },
  {
   "cell_type": "markdown",
   "id": "dbe9218d-cff0-4dcc-81de-b136f73749dc",
   "metadata": {},
   "source": [
    "<br>\n",
    "\n",
    "## Transpose songs to C_maj / A_min"
   ]
  },
  {
   "cell_type": "code",
   "execution_count": 14,
   "id": "f9a16f15-4fdc-442b-b525-62adf116ad5b",
   "metadata": {},
   "outputs": [],
   "source": [
    "def transpose(song):\n",
    "    # get key from the song\n",
    "    parts = song.getElementsByClass(m21.stream.Part)\n",
    "    measures_part0 = parts[0].getElementsByClass(m21.stream.Measure)\n",
    "    key = measures_part0[0][4]\n",
    "    \n",
    "    # if key not exist, estimate key using Music21\n",
    "    if not isinstance(key, m21.key.Key):\n",
    "        key = song.analyze(\"key\")\n",
    "\n",
    "    # print(key)\n",
    "\n",
    "    # get interval for transposition. E.g., Bmaj => Cmaj\n",
    "    if key.mode == \"major\":\n",
    "        interval = m21.interval.Interval(key.tonic, m21.pitch.Pitch(\"C\"))\n",
    "    elif key.mode == \"minor\":\n",
    "        interval = m21.interval.Interval(key.tonic, m21.pitch.Pitch(\"A\"))\n",
    "\n",
    "    # transpose song by calculated interval\n",
    "    transposed_song = song.transpose(interval)\n",
    "\n",
    "    return transposed_song"
   ]
  },
  {
   "cell_type": "markdown",
   "id": "2861a9a2-9907-49e8-a7ae-e6e701262190",
   "metadata": {},
   "source": [
    "<br>\n",
    "\n",
    "## Encode Song"
   ]
  },
  {
   "cell_type": "code",
   "execution_count": 15,
   "id": "0d32e6ea-230c-4530-bbc0-dc16adce89f9",
   "metadata": {},
   "outputs": [],
   "source": [
    "def encode_song(song, time_step=0.25):\n",
    "    # e.g., p = 60, d = 1.0 => [60, \"_\", \"_\"]\n",
    "\n",
    "    encoded_song = []\n",
    "\n",
    "    for event in song.flat.notesAndRests:\n",
    "        # handle notes\n",
    "        if isinstance(event, m21.note.Note):\n",
    "            symbol = event.pitch.midi  # in our case, its 60\n",
    "        # handle rests\n",
    "        elif isinstance(event, m21.note.Rest):\n",
    "            symbol = \"r\"\n",
    "\n",
    "        # convert the notes & rests into time-series notation\n",
    "        steps = int(event.duration.quarterLength / time_step)\n",
    "        \n",
    "        for step in range(steps):\n",
    "            if step == 0:\n",
    "                encoded_song.append(symbol)\n",
    "            else:\n",
    "                encoded_song.append(\"_\")\n",
    "\n",
    "    # cast encoded song to a str\n",
    "    encoded_song = \" \".join(map(str, encoded_song))  # convert to string and join\n",
    "\n",
    "    return encoded_song\n",
    "        "
   ]
  },
  {
   "cell_type": "markdown",
   "id": "19d5a8d7-0baf-4c79-a4fe-bfaf1f84da76",
   "metadata": {},
   "source": [
    "<br>\n",
    "\n",
    "## Data preprocessing"
   ]
  },
  {
   "cell_type": "code",
   "execution_count": 16,
   "id": "04ee8aa9-ab15-4416-ad39-a6c7ac6c2e82",
   "metadata": {},
   "outputs": [],
   "source": [
    "def preprocess(dataset_path):\n",
    "    # load the folk songs\n",
    "    print('Loading songs ...')\n",
    "    songs = load_songs_in_kern(dataset_path)\n",
    "    print(f\"Loaded {len(songs)} songs.\")\n",
    "\n",
    "    for i, song in enumerate(songs):\n",
    "        # filter out songs that have non-acceptable durations\n",
    "        if not has_acceptable_durations(song, ACCEPTABLE_DURATIONS):\n",
    "            continue\n",
    "        \n",
    "        # transpose songs to C_maj / A_min\n",
    "        song = transpose(song)\n",
    "    \n",
    "        # encode songs with music time series representation\n",
    "        encoded_song = encode_song(song)\n",
    "    \n",
    "        # save songs to text file\n",
    "        save_path = os.path.join(SAVE_DIR, str(i))\n",
    "        with open(save_path, \"w\") as fp:\n",
    "            fp.write(encoded_song)\n",
    "    "
   ]
  },
  {
   "cell_type": "markdown",
   "id": "a4f7a31a-5e23-4808-b32d-c6f249363892",
   "metadata": {},
   "source": [
    "<br>\n",
    "\n",
    "## Crate single dataset"
   ]
  },
  {
   "cell_type": "code",
   "execution_count": 17,
   "id": "9b615cb2-c552-453b-b551-44163b1296ea",
   "metadata": {},
   "outputs": [],
   "source": [
    "def load(file_path):\n",
    "    with open(file_path, \"r\") as fp:\n",
    "        song = fp.read()\n",
    "\n",
    "    return song\n",
    "    \n",
    "\n",
    "def create_single_file_dataset(dataset_path, file_dataset_path, sequence_length):\n",
    "    new_song_delimiter = \"/ \" * sequence_length\n",
    "    songs = \"\"\n",
    "    \n",
    "    # load encoded songs and add delimiters\n",
    "    for path, _, files in os.walk(dataset_path):\n",
    "        for file in files:\n",
    "            file_path = os.path.join(path, file)\n",
    "            song = load(file_path)\n",
    "            songs = songs + song + \" \" + new_song_delimiter\n",
    "\n",
    "    # remove unnecessary delimeter\n",
    "    songs = songs[:-1]\n",
    "\n",
    "    # save string that contains all the dataset\n",
    "    with open(file_dataset_path, \"w\") as fp:\n",
    "        fp.write(songs)\n",
    "\n",
    "    return songs"
   ]
  },
  {
   "cell_type": "markdown",
   "id": "6a65d947-58c6-440c-bf7e-d9788eed8ef7",
   "metadata": {},
   "source": [
    "<br>\n",
    "\n",
    "## Create mapping"
   ]
  },
  {
   "cell_type": "code",
   "execution_count": 18,
   "id": "f08d778c-05ca-4a98-adc4-195b778007a3",
   "metadata": {},
   "outputs": [],
   "source": [
    "def create_mapping(songs, mapping_path):\n",
    "    mappings = {}\n",
    "    \n",
    "    # identify the vocabulary\n",
    "    songs = songs.split()  # string to list convertion\n",
    "    vocabulary = list(set(songs))\n",
    "\n",
    "    # create mappings\n",
    "    for i, symbol in enumerate(vocabulary):\n",
    "        mappings[symbol] = i\n",
    "\n",
    "    # save vocabulary to a json file\n",
    "    with open(mapping_path, \"w\") as fp:\n",
    "        json.dump(mappings, fp, indent=4)"
   ]
  },
  {
   "cell_type": "markdown",
   "id": "b2ccd914-6af6-40b4-87dc-e0fdc767dea5",
   "metadata": {},
   "source": [
    "<br>\n",
    "\n",
    "## Convert songs to integers"
   ]
  },
  {
   "cell_type": "code",
   "execution_count": 27,
   "id": "a68551b3-f772-42f4-bc8e-9703347ebc11",
   "metadata": {},
   "outputs": [],
   "source": [
    "def convert_songs_to_int(songs):\n",
    "    int_songs = []\n",
    "    \n",
    "    # load the mappings\n",
    "    with open(MAPPING_PATH, \"r\") as fp:\n",
    "        mappings = json.load(fp)\n",
    "\n",
    "    # cast songs string to a list\n",
    "    songs = songs.split()\n",
    "\n",
    "    # map songs to int\n",
    "    for symbol in songs:\n",
    "        int_songs.append(mappings[symbol])\n",
    "\n",
    "    return int_songs"
   ]
  },
  {
   "cell_type": "markdown",
   "id": "dce8a30d-5f7d-4abd-afe2-18c145cf3221",
   "metadata": {},
   "source": [
    "<br>\n",
    "\n",
    "## Generate training sequences"
   ]
  },
  {
   "cell_type": "code",
   "execution_count": 31,
   "id": "d6a2446d-1b1d-484a-952d-875551676465",
   "metadata": {},
   "outputs": [],
   "source": [
    "def generate_training_sequences(sequence_length, file_dataset_path):\n",
    "    # [11, 12, 13, 14, ...]  ==> inputs: [11, 12], targets: [13] | i: [12, 13], t: [14]\n",
    "    \n",
    "    # load songs and convert them to int\n",
    "    songs = load(file_dataset_path)\n",
    "    int_songs = convert_songs_to_int(songs)\n",
    "\n",
    "    # generate the training sequences\n",
    "    # if we have 100 symbols & seq. len. = 64  ==> we can generate 100 - 64 = 36 sequences\n",
    "    # each sequence have 64 time steps\n",
    "    inputs = []\n",
    "    targets = []\n",
    "    \n",
    "    num_sequences = len(int_songs) - sequence_length\n",
    "    for i in range(num_sequences):\n",
    "        inputs.append(int_songs[i:i+sequence_length])\n",
    "        targets.append(int_songs[i+sequence_length])\n",
    "\n",
    "    # one-hot encode the sequences\n",
    "    # shape of the inputs: (# of sequences, sequence length)\n",
    "    # [[0, 1, 2], [1, 2, 3]] ==> [[[1, 0, 0], [0, 1, 0], [0, 0, 2]], [[], [], []]]\n",
    "    vocabulary_size = len(set(int_songs))\n",
    "    inputs = keras.utils.to_categorical(inputs, num_classes=vocabulary_size)    \n",
    "    targets = np.array(targets)\n",
    "\n",
    "    return inputs, targets"
   ]
  },
  {
   "cell_type": "markdown",
   "id": "1d1ae980-bec4-4b24-91e6-a4941c0ac4f0",
   "metadata": {},
   "source": [
    "<br><br>"
   ]
  },
  {
   "cell_type": "code",
   "execution_count": 36,
   "id": "b5341e3a-a554-4bb1-b46a-f8bfbfb06108",
   "metadata": {},
   "outputs": [
    {
     "name": "stdout",
     "output_type": "stream",
     "text": [
      "Loading songs ...\n",
      "Loaded 12 songs.\n"
     ]
    }
   ],
   "source": [
    "if __name__ == \"__main__\":\n",
    "    preprocess(KERN_DATASET_PATH)\n",
    "    songs = create_single_file_dataset(SAVE_DIR, SINGLE_FILE_DATASET, SEQUENCE_LENGTH)\n",
    "\n",
    "    create_mapping(songs, MAPPING_PATH)\n",
    "\n",
    "    inputs, targets = generate_training_sequences(SEQUENCE_LENGTH, SINGLE_FILE_DATASET)\n",
    "    \n",
    "    \n",
    "    # transposed_song.show(\"musicxml\")"
   ]
  },
  {
   "cell_type": "code",
   "execution_count": 37,
   "id": "b90320a6-b46e-40bb-8e18-98a62308d83f",
   "metadata": {},
   "outputs": [
    {
     "data": {
      "text/plain": [
       "array([[[0., 0., 0., ..., 0., 0., 0.],\n",
       "        [0., 0., 0., ..., 0., 0., 1.],\n",
       "        [0., 0., 1., ..., 0., 0., 0.],\n",
       "        ...,\n",
       "        [0., 0., 0., ..., 0., 0., 1.],\n",
       "        [0., 0., 0., ..., 0., 0., 0.],\n",
       "        [0., 0., 0., ..., 0., 0., 1.]],\n",
       "\n",
       "       [[0., 0., 0., ..., 0., 0., 1.],\n",
       "        [0., 0., 1., ..., 0., 0., 0.],\n",
       "        [0., 0., 0., ..., 0., 0., 1.],\n",
       "        ...,\n",
       "        [0., 0., 0., ..., 0., 0., 0.],\n",
       "        [0., 0., 0., ..., 0., 0., 1.],\n",
       "        [0., 0., 0., ..., 0., 0., 1.]],\n",
       "\n",
       "       [[0., 0., 1., ..., 0., 0., 0.],\n",
       "        [0., 0., 0., ..., 0., 0., 1.],\n",
       "        [0., 0., 0., ..., 0., 0., 1.],\n",
       "        ...,\n",
       "        [0., 0., 0., ..., 0., 0., 1.],\n",
       "        [0., 0., 0., ..., 0., 0., 1.],\n",
       "        [0., 0., 0., ..., 0., 0., 1.]],\n",
       "\n",
       "       ...,\n",
       "\n",
       "       [[0., 0., 0., ..., 0., 0., 1.],\n",
       "        [0., 0., 0., ..., 0., 0., 1.],\n",
       "        [0., 0., 0., ..., 0., 0., 1.],\n",
       "        ...,\n",
       "        [0., 0., 0., ..., 0., 0., 0.],\n",
       "        [0., 0., 0., ..., 0., 0., 0.],\n",
       "        [0., 0., 0., ..., 0., 0., 0.]],\n",
       "\n",
       "       [[0., 0., 0., ..., 0., 0., 1.],\n",
       "        [0., 0., 0., ..., 0., 0., 1.],\n",
       "        [0., 0., 0., ..., 0., 0., 0.],\n",
       "        ...,\n",
       "        [0., 0., 0., ..., 0., 0., 0.],\n",
       "        [0., 0., 0., ..., 0., 0., 0.],\n",
       "        [0., 0., 0., ..., 0., 0., 0.]],\n",
       "\n",
       "       [[0., 0., 0., ..., 0., 0., 1.],\n",
       "        [0., 0., 0., ..., 0., 0., 0.],\n",
       "        [0., 0., 0., ..., 0., 0., 0.],\n",
       "        ...,\n",
       "        [0., 0., 0., ..., 0., 0., 0.],\n",
       "        [0., 0., 0., ..., 0., 0., 0.],\n",
       "        [0., 0., 0., ..., 0., 0., 0.]]], dtype=float32)"
      ]
     },
     "execution_count": 37,
     "metadata": {},
     "output_type": "execute_result"
    }
   ],
   "source": [
    "inputs"
   ]
  },
  {
   "cell_type": "code",
   "execution_count": 40,
   "id": "dc60a03a-f5c9-457d-8a2e-fefe25437b3d",
   "metadata": {},
   "outputs": [
    {
     "name": "stdout",
     "output_type": "stream",
     "text": [
      "[17 17 17 ... 14 14 14]\n"
     ]
    },
    {
     "data": {
      "text/plain": [
       "2512"
      ]
     },
     "execution_count": 40,
     "metadata": {},
     "output_type": "execute_result"
    }
   ],
   "source": [
    "print(targets)\n",
    "len(targets)"
   ]
  },
  {
   "cell_type": "code",
   "execution_count": 41,
   "id": "0f84dc03-50df-4592-98da-bee5c7eb5e92",
   "metadata": {},
   "outputs": [
    {
     "data": {
      "text/plain": [
       "(2512, 64, 18)"
      ]
     },
     "execution_count": 41,
     "metadata": {},
     "output_type": "execute_result"
    }
   ],
   "source": [
    "inputs.shape"
   ]
  },
  {
   "cell_type": "code",
   "execution_count": 42,
   "id": "cd4ee5ed-d2da-4eb5-9ad7-d784759aa95c",
   "metadata": {},
   "outputs": [
    {
     "data": {
      "text/plain": [
       "(2512,)"
      ]
     },
     "execution_count": 42,
     "metadata": {},
     "output_type": "execute_result"
    }
   ],
   "source": [
    "targets.shape"
   ]
  }
 ],
 "metadata": {
  "kernelspec": {
   "display_name": "tf_kernel",
   "language": "python",
   "name": "tf_kernel"
  },
  "language_info": {
   "codemirror_mode": {
    "name": "ipython",
    "version": 3
   },
   "file_extension": ".py",
   "mimetype": "text/x-python",
   "name": "python",
   "nbconvert_exporter": "python",
   "pygments_lexer": "ipython3",
   "version": "3.9.18"
  }
 },
 "nbformat": 4,
 "nbformat_minor": 5
}
