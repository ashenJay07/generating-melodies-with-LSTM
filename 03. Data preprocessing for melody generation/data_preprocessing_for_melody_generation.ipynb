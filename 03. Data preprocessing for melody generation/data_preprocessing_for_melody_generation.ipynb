{
 "cells": [
  {
   "cell_type": "code",
   "execution_count": 106,
   "id": "09f67757-a5c9-4f14-88cd-8127b3655d59",
   "metadata": {},
   "outputs": [],
   "source": [
    "import os\n",
    "import music21 as m21\n",
    "from music21 import environment\n",
    "import json"
   ]
  },
  {
   "cell_type": "code",
   "execution_count": 63,
   "id": "9762ad7b-a2a5-4f1e-bd0e-bf286223c21a",
   "metadata": {},
   "outputs": [
    {
     "data": {
      "text/plain": [
       "'8.3.0'"
      ]
     },
     "execution_count": 63,
     "metadata": {},
     "output_type": "execute_result"
    }
   ],
   "source": [
    "music21.__version__"
   ]
  },
  {
   "cell_type": "markdown",
   "id": "f54cefc4-861e-465e-b3de-f4fffaf4cd7f",
   "metadata": {},
   "source": [
    "### What is Music21?\n",
    "\n",
    "Simply, It is a package that we can used as a converting tool. <br>\n",
    "E.g., kern, MIDI, MusicMXL ===> m21 ===> kern, MIDI, ....\n",
    "\n",
    "[Music21 Documentation](https://web.mit.edu/music21/doc/)\n",
    "\n",
    "<br><br>"
   ]
  },
  {
   "cell_type": "code",
   "execution_count": 107,
   "id": "d9d8c8bc-2b5f-4e1c-af5e-a38a9aa33307",
   "metadata": {},
   "outputs": [],
   "source": [
    "PATH_TO_MUSESCORE_EXECUTABLE = r\"C:\\Program Files\\MuseScore 4\\bin\\MuseScore4.exe\"\n",
    "KERN_DATASET_PATH = \"deutschl/test\"\n",
    "SAVE_DIR = \"dataset\"\n",
    "SINGLE_FILE_DATASET = \"file_dataset\"\n",
    "SEQUENCE_LENGTH = 64\n",
    "MAPPING_PATH = \"mapping.json\"\n",
    "\n",
    "# durations are expressed in quarter length\n",
    "ACCEPTABLE_DURATIONS = [\n",
    "    0.25,  # 16th note\n",
    "    0.5,  # 8th note\n",
    "    0.75,  # dotted note\n",
    "    1.0,  # quarter note\n",
    "    1.5,  # dotted quater note\n",
    "    2,  # half note\n",
    "    3,  # quarter note (time-signature)\n",
    "    4  # whole note\n",
    "]"
   ]
  },
  {
   "cell_type": "markdown",
   "id": "8d95f195-e4ed-4ff5-8937-85cfa74c281a",
   "metadata": {},
   "source": [
    "<br>\n",
    "\n",
    "## Setup Music21 environment variable"
   ]
  },
  {
   "cell_type": "code",
   "execution_count": 79,
   "id": "27f0de93-76ea-4640-bdfd-a59ed5495f64",
   "metadata": {},
   "outputs": [],
   "source": [
    "environment.set(\"musicxmlPath\", PATH_TO_MUSESCORE_EXECUTABLE)"
   ]
  },
  {
   "cell_type": "markdown",
   "id": "e46d2715-2c55-4f21-b382-91492cf22cef",
   "metadata": {},
   "source": [
    "<br>\n",
    "\n",
    "## Load flok songs"
   ]
  },
  {
   "cell_type": "code",
   "execution_count": 80,
   "id": "2fee85d7-9f25-4a1a-804f-71005461c4a1",
   "metadata": {},
   "outputs": [],
   "source": [
    "def load_songs_in_kern(dataset_path):\n",
    "\n",
    "    songs = []\n",
    "    \n",
    "    # go through all the files in dataset and load them with music21\n",
    "    for path, sub_dirs, files in os.walk(dataset_path):\n",
    "        for file in files:\n",
    "            # filtering kern files\n",
    "            if file[-3:] == \"krn\":\n",
    "                song = m21.converter.parse(os.path.join(path, file))\n",
    "                songs.append(song)\n",
    "\n",
    "    return songs\n",
    "    "
   ]
  },
  {
   "cell_type": "markdown",
   "id": "b1d2a2c4-833c-4c91-9dd6-0b242f473cc7",
   "metadata": {},
   "source": [
    "<br>\n",
    "\n",
    "## Filter out songs that have non-acceptable durations"
   ]
  },
  {
   "cell_type": "code",
   "execution_count": 81,
   "id": "243c0a06-5288-4097-b34c-c02e33a5341e",
   "metadata": {},
   "outputs": [],
   "source": [
    "def has_acceptable_durations(song, acceptable_duration):\n",
    "    for note in song.flat.notesAndRests:\n",
    "        if note.duration.quarterLength not in acceptable_duration:\n",
    "            return False\n",
    "    return True"
   ]
  },
  {
   "cell_type": "markdown",
   "id": "dbe9218d-cff0-4dcc-81de-b136f73749dc",
   "metadata": {},
   "source": [
    "<br>\n",
    "\n",
    "## Transpose songs to C_maj / A_min"
   ]
  },
  {
   "cell_type": "code",
   "execution_count": 95,
   "id": "f9a16f15-4fdc-442b-b525-62adf116ad5b",
   "metadata": {},
   "outputs": [],
   "source": [
    "def transpose(song):\n",
    "    # get key from the song\n",
    "    parts = song.getElementsByClass(m21.stream.Part)\n",
    "    measures_part0 = parts[0].getElementsByClass(m21.stream.Measure)\n",
    "    key = measures_part0[0][4]\n",
    "    \n",
    "    # if key not exist, estimate key using Music21\n",
    "    if not isinstance(key, m21.key.Key):\n",
    "        key = song.analyze(\"key\")\n",
    "\n",
    "    # print(key)\n",
    "\n",
    "    # get interval for transposition. E.g., Bmaj => Cmaj\n",
    "    if key.mode == \"major\":\n",
    "        interval = m21.interval.Interval(key.tonic, m21.pitch.Pitch(\"C\"))\n",
    "    elif key.mode == \"minor\":\n",
    "        interval = m21.interval.Interval(key.tonic, m21.pitch.Pitch(\"A\"))\n",
    "\n",
    "    # transpose song by calculated interval\n",
    "    transposed_song = song.transpose(interval)\n",
    "\n",
    "    return transposed_song"
   ]
  },
  {
   "cell_type": "markdown",
   "id": "2861a9a2-9907-49e8-a7ae-e6e701262190",
   "metadata": {},
   "source": [
    "<br>\n",
    "\n",
    "## Encode Song"
   ]
  },
  {
   "cell_type": "code",
   "execution_count": 90,
   "id": "0d32e6ea-230c-4530-bbc0-dc16adce89f9",
   "metadata": {},
   "outputs": [],
   "source": [
    "def encode_song(song, time_step=0.25):\n",
    "    # e.g., p = 60, d = 1.0 => [60, \"_\", \"_\"]\n",
    "\n",
    "    encoded_song = []\n",
    "\n",
    "    for event in song.flat.notesAndRests:\n",
    "        # handle notes\n",
    "        if isinstance(event, m21.note.Note):\n",
    "            symbol = event.pitch.midi  # in our case, its 60\n",
    "        # handle rests\n",
    "        elif isinstance(event, m21.note.Rest):\n",
    "            symbol = \"r\"\n",
    "\n",
    "        # convert the notes & rests into time-series notation\n",
    "        steps = int(event.duration.quarterLength / time_step)\n",
    "        \n",
    "        for step in range(steps):\n",
    "            if step == 0:\n",
    "                encoded_song.append(symbol)\n",
    "            else:\n",
    "                encoded_song.append(\"_\")\n",
    "\n",
    "    # cast encoded song to a str\n",
    "    encoded_song = \" \".join(map(str, encoded_song))  # convert to string and join\n",
    "\n",
    "    return encoded_song\n",
    "        "
   ]
  },
  {
   "cell_type": "markdown",
   "id": "19d5a8d7-0baf-4c79-a4fe-bfaf1f84da76",
   "metadata": {},
   "source": [
    "<br>\n",
    "\n",
    "## Data preprocessing"
   ]
  },
  {
   "cell_type": "code",
   "execution_count": 97,
   "id": "04ee8aa9-ab15-4416-ad39-a6c7ac6c2e82",
   "metadata": {},
   "outputs": [],
   "source": [
    "def preprocess(dataset_path):\n",
    "    # load the folk songs\n",
    "    print('Loading songs ...')\n",
    "    songs = load_songs_in_kern(dataset_path)\n",
    "    print(f\"Loaded {len(songs)} songs.\")\n",
    "\n",
    "    for i, song in enumerate(songs):\n",
    "        # filter out songs that have non-acceptable durations\n",
    "        if not has_acceptable_durations(song, ACCEPTABLE_DURATIONS):\n",
    "            continue\n",
    "        \n",
    "        # transpose songs to C_maj / A_min\n",
    "        song = transpose(song)\n",
    "    \n",
    "        # encode songs with music time series representation\n",
    "        encoded_song = encode_song(song)\n",
    "    \n",
    "        # save songs to text file\n",
    "        save_path = os.path.join(SAVE_DIR, str(i))\n",
    "        with open(save_path, \"w\") as fp:\n",
    "            fp.write(encoded_song)\n",
    "    "
   ]
  },
  {
   "cell_type": "markdown",
   "id": "a4f7a31a-5e23-4808-b32d-c6f249363892",
   "metadata": {},
   "source": [
    "<br>\n",
    "\n",
    "## Crate single dataset"
   ]
  },
  {
   "cell_type": "code",
   "execution_count": 103,
   "id": "9b615cb2-c552-453b-b551-44163b1296ea",
   "metadata": {},
   "outputs": [],
   "source": [
    "def load(file_path):\n",
    "    with open(file_path, \"r\") as fp:\n",
    "        song = fp.read()\n",
    "\n",
    "    return song\n",
    "    \n",
    "\n",
    "def create_single_file_dataset(dataset_path, file_dataset_path, sequence_length):\n",
    "    new_song_delimiter = \"/ \" * sequence_length\n",
    "    songs = \"\"\n",
    "    \n",
    "    # load encoded songs and add delimiters\n",
    "    for path, _, files in os.walk(dataset_path):\n",
    "        for file in files:\n",
    "            file_path = os.path.join(path, file)\n",
    "            song = load(file_path)\n",
    "            songs = songs + song + \" \" + new_song_delimiter\n",
    "\n",
    "    # remove unnecessary delimeter\n",
    "    songs = songs[:-1]\n",
    "\n",
    "    # save string that contains all the dataset\n",
    "    with open(file_dataset_path, \"w\") as fp:\n",
    "        fp.write(songs)\n",
    "\n",
    "    return songs"
   ]
  },
  {
   "cell_type": "markdown",
   "id": "6a65d947-58c6-440c-bf7e-d9788eed8ef7",
   "metadata": {},
   "source": [
    "<br>\n",
    "\n",
    "## Create mapping"
   ]
  },
  {
   "cell_type": "code",
   "execution_count": 110,
   "id": "f08d778c-05ca-4a98-adc4-195b778007a3",
   "metadata": {},
   "outputs": [],
   "source": [
    "def create_mapping(songs, mapping_path):\n",
    "    mappings = {}\n",
    "    \n",
    "    # identify the vocabulary\n",
    "    songs = songs.split()  # string to list convertion\n",
    "    vocabulary = list(set(songs))\n",
    "\n",
    "    # create mappings\n",
    "    for i, symbol in enumerate(vocabulary):\n",
    "        mappings[symbol] = i\n",
    "\n",
    "    # save vocabulary to a json file\n",
    "    with open(mapping_path, \"w\") as fp:\n",
    "        json.dump(mappings, fp, indent=4)"
   ]
  },
  {
   "cell_type": "markdown",
   "id": "1d1ae980-bec4-4b24-91e6-a4941c0ac4f0",
   "metadata": {},
   "source": [
    "<br><br>"
   ]
  },
  {
   "cell_type": "code",
   "execution_count": 109,
   "id": "b5341e3a-a554-4bb1-b46a-f8bfbfb06108",
   "metadata": {},
   "outputs": [
    {
     "name": "stdout",
     "output_type": "stream",
     "text": [
      "Loading songs ...\n",
      "Loaded 12 songs.\n"
     ]
    }
   ],
   "source": [
    "if __name__ == \"__main__\":\n",
    "    preprocess(KERN_DATASET_PATH)\n",
    "    songs = create_single_file_dataset(SAVE_DIR, SINGLE_FILE_DATASET, SEQUENCE_LENGTH)\n",
    "\n",
    "    create_mapping(songs, MAPPING_PATH)\n",
    "    \n",
    "    # transposed_song.show(\"musicxml\")"
   ]
  }
 ],
 "metadata": {
  "kernelspec": {
   "display_name": "tf_kernel",
   "language": "python",
   "name": "tf_kernel"
  },
  "language_info": {
   "codemirror_mode": {
    "name": "ipython",
    "version": 3
   },
   "file_extension": ".py",
   "mimetype": "text/x-python",
   "name": "python",
   "nbconvert_exporter": "python",
   "pygments_lexer": "ipython3",
   "version": "3.9.18"
  }
 },
 "nbformat": 4,
 "nbformat_minor": 5
}
